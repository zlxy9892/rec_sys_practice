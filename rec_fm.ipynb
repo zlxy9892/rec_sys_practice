{
 "cells": [
  {
   "cell_type": "code",
   "execution_count": 1,
   "metadata": {},
   "outputs": [
    {
     "name": "stderr",
     "output_type": "stream",
     "text": [
      "/Users/zhanglei115/dev/anaconda3/lib/python3.6/site-packages/h5py/__init__.py:36: FutureWarning: Conversion of the second argument of issubdtype from `float` to `np.floating` is deprecated. In future, it will be treated as `np.float64 == np.dtype(float).type`.\n",
      "  from ._conv import register_converters as _register_converters\n"
     ]
    }
   ],
   "source": [
    "import numpy as np\n",
    "import tensorflow as tf"
   ]
  },
  {
   "cell_type": "code",
   "execution_count": 2,
   "metadata": {},
   "outputs": [],
   "source": [
    "# Example dummy data from Rendle 2010 \n",
    "# http://www.csie.ntu.edu.tw/~b97053/paper/Rendle2010FM.pdf\n",
    "# Stolen from https://github.com/coreylynch/pyFM\n",
    "# Categorical variables (Users, Movies, Last Rated) have been one-hot-encoded \n",
    "\n",
    "x_data = np.matrix([\n",
    "#    Users  |     Movies     |    Movie Ratings   | Time | Last Movies Rated\n",
    "#   A  B  C | TI  NH  SW  ST | TI   NH   SW   ST  |      | TI  NH  SW  ST\n",
    "    [1, 0, 0,  1,  0,  0,  0,   0.3, 0.3, 0.3, 0,     13,   0,  0,  0,  0 ],\n",
    "    [1, 0, 0,  0,  1,  0,  0,   0.3, 0.3, 0.3, 0,     14,   1,  0,  0,  0 ],\n",
    "    [1, 0, 0,  0,  0,  1,  0,   0.3, 0.3, 0.3, 0,     16,   0,  1,  0,  0 ],\n",
    "    [0, 1, 0,  0,  0,  1,  0,   0,   0,   0.5, 0.5,   5,    0,  0,  0,  0 ],\n",
    "    [0, 1, 0,  0,  0,  0,  1,   0,   0,   0.5, 0.5,   8,    0,  0,  1,  0 ],\n",
    "    [0, 0, 1,  1,  0,  0,  0,   0.5, 0,   0.5, 0,     9,    0,  0,  0,  0 ],\n",
    "    [0, 0, 1,  0,  0,  1,  0,   0.5, 0,   0.5, 0,     12,   1,  0,  0,  0 ]\n",
    "])\n",
    "# ratings\n",
    "y_data = np.array([5, 3, 1, 4, 5, 1, 5])\n",
    "\n",
    "# Let's add an axis to make tensoflow happy.\n",
    "y_data.shape += (1, )"
   ]
  },
  {
   "cell_type": "code",
   "execution_count": 3,
   "metadata": {},
   "outputs": [
    {
     "name": "stdout",
     "output_type": "stream",
     "text": [
      "(7, 16)\n",
      "(7, 1)\n"
     ]
    }
   ],
   "source": [
    "print(x_data.shape)\n",
    "print(y_data.shape)"
   ]
  },
  {
   "cell_type": "code",
   "execution_count": 4,
   "metadata": {},
   "outputs": [
    {
     "name": "stdout",
     "output_type": "stream",
     "text": [
      "X_shape: (7, 16)\n",
      "V_shape: (5, 16)\n"
     ]
    }
   ],
   "source": [
    "n, p = x_data.shape\n",
    "\n",
    "# number of latent factors\n",
    "k = 5\n",
    "\n",
    "X = tf.placeholder('float', shape=[n, p])  # design matrix\n",
    "y = tf.placeholder('float', shape=[n, 1])  # target vector\n",
    "\n",
    "# bias and weights\n",
    "w0 = tf.Variable(tf.zeros([1]))\n",
    "W = tf.Variable(tf.zeros([p]))\n",
    "\n",
    "# interaction factors, randomly initialized \n",
    "V = tf.Variable(tf.random_normal([k, p], stddev=0.01))\n",
    "\n",
    "# estimate of y, initialized to 0.\n",
    "y_pred = tf.Variable(tf.zeros([n, 1]))\n",
    "\n",
    "print('X_shape: {}'.format(X.shape))\n",
    "print('V_shape: {}'.format(V.shape))"
   ]
  },
  {
   "cell_type": "markdown",
   "metadata": {},
   "source": [
    "FM算法中预测 $\\hat{y}$ 的公式:\n",
    "\n",
    "$\\hat{y} = w_0 + \\sum_{i}{w_i x_i} + \\sum_{i}{\\sum_{i<j}{w_{ij} x_i x_j}}$"
   ]
  },
  {
   "cell_type": "code",
   "execution_count": 5,
   "metadata": {},
   "outputs": [],
   "source": [
    "linear_terms = tf.add(w0, tf.reduce_sum(tf.multiply(W, X), 1, keepdims=True))"
   ]
  },
  {
   "cell_type": "code",
   "execution_count": 6,
   "metadata": {},
   "outputs": [],
   "source": [
    "# 变量间交互项\n",
    "interactions = (tf.multiply(0.5,\n",
    "                    tf.reduce_sum(tf.subtract(tf.pow(tf.matmul(X, tf.transpose(V)), 2),\n",
    "                        tf.matmul(tf.pow(X, 2), tf.transpose(tf.pow(V, 2)))), 1, keepdims=True)))"
   ]
  },
  {
   "cell_type": "code",
   "execution_count": 7,
   "metadata": {},
   "outputs": [],
   "source": [
    "y_pred = tf.add(linear_terms, interactions)"
   ]
  },
  {
   "cell_type": "code",
   "execution_count": 8,
   "metadata": {},
   "outputs": [],
   "source": [
    "# L2 regularized sum of squares loss function over W and V\n",
    "lambda_w = tf.constant(0.001, name='lambda_w')\n",
    "lambda_v = tf.constant(0.001, name='lambda_v')\n",
    "\n",
    "l2_norm = (tf.reduce_sum(\n",
    "            tf.add(\n",
    "                tf.multiply(lambda_w, tf.pow(W, 2)),\n",
    "                tf.multiply(lambda_v, tf.pow(V, 2)))))\n",
    "\n",
    "mse = tf.reduce_mean(tf.square(tf.subtract(y, y_pred)))\n",
    "loss = tf.add(mse, l2_norm)"
   ]
  },
  {
   "cell_type": "code",
   "execution_count": 9,
   "metadata": {},
   "outputs": [],
   "source": [
    "eta = tf.constant(0.1)\n",
    "optimizer = tf.train.AdagradOptimizer(eta).minimize(loss)"
   ]
  },
  {
   "cell_type": "code",
   "execution_count": 10,
   "metadata": {},
   "outputs": [
    {
     "name": "stdout",
     "output_type": "stream",
     "text": [
      "MSE:  3.4389262e-07\n",
      "Loss (regularized error):  0.0034227965\n",
      "Predictions:\n",
      " [[3.9990382]\n",
      " [4.999921 ]\n",
      " [3.00038  ]\n",
      " [4.9995203]\n",
      " [1.0006304]\n",
      " [4.9999886]\n",
      " [1.000839 ]]\n",
      "Learnt weights:\n",
      " [ 0.13565649  0.19769716 -0.04497153  0.01938483 -0.03698042  0.2189549\n",
      "  0.10642584  0.03061904  0.07590548  0.11230227  0.15114953  0.13685484\n",
      "  0.19490509 -0.17412204  0.10642584  0.        ]\n",
      "Learnt factors:\n",
      " [[ 8.66873190e-02  2.45530605e-01 -2.12830439e-01  1.56533360e-01\n",
      "  -3.02045465e-01  2.24947050e-01  6.79889023e-02 -4.69868518e-02\n",
      "   4.50542383e-02  4.89947274e-02  2.16567487e-01  3.04345638e-01\n",
      "   2.56425649e-01 -4.21109259e-01  8.10839683e-02 -1.56625436e-04]\n",
      " [-1.13541625e-01 -8.32601264e-03  1.60201281e-01 -1.19042188e-01\n",
      "   1.94987461e-01 -1.17759794e-01  4.23520207e-02  5.08476701e-03\n",
      "  -9.11881998e-02  7.27587321e-04 -1.50686437e-02 -7.85334632e-02\n",
      "  -8.81031901e-02  2.79943675e-01  3.44421566e-02  3.19958222e-03]\n",
      " [-6.06829077e-02 -1.03675030e-01  1.07081302e-01 -2.55021770e-02\n",
      "   2.49601021e-01 -1.95389718e-01 -4.57498319e-02  2.88104285e-02\n",
      "  -4.00810651e-02 -2.97632162e-02 -8.84015188e-02 -1.37237206e-01\n",
      "  -1.55648276e-01  3.68054897e-01 -4.01646569e-02  2.66437954e-03]\n",
      " [-1.15625598e-01 -2.28755072e-01  1.61014989e-01 -1.71989232e-01\n",
      "   2.38771603e-01 -2.17560172e-01 -9.35743526e-02  2.84469295e-02\n",
      "  -7.73553401e-02 -4.53945100e-02 -2.14766279e-01 -2.93781668e-01\n",
      "  -2.57628679e-01  4.29318100e-01 -8.24051276e-02 -7.52934720e-03]\n",
      " [-2.23729219e-02 -1.40947714e-01  1.46440893e-01 -5.40008470e-02\n",
      "   2.50212938e-01 -1.74786314e-01  5.07440011e-04  2.87574716e-02\n",
      "   4.42865785e-05 -2.60600559e-02 -1.19128734e-01 -1.21269546e-01\n",
      "  -1.91321164e-01  2.65347242e-01  1.79171225e-03  6.65115542e-04]]\n"
     ]
    }
   ],
   "source": [
    "N_EPOCHS = 1000\n",
    "init = tf.global_variables_initializer()\n",
    "\n",
    "with tf.Session() as sess:\n",
    "    sess.run(init)\n",
    "\n",
    "    for epoch in range(N_EPOCHS):\n",
    "        indices = np.arange(n)\n",
    "        np.random.shuffle(indices)\n",
    "        x_data, y_data = x_data[indices], y_data[indices]\n",
    "        sess.run(optimizer, feed_dict={X: x_data, y: y_data})\n",
    "\n",
    "    print('MSE: ', sess.run(mse, feed_dict={X: x_data, y: y_data}))\n",
    "    print('Loss (regularized error): ', sess.run(loss, feed_dict={X: x_data, y: y_data}))\n",
    "    print('Predictions:\\n', sess.run(y_pred, feed_dict={X: x_data, y: y_data}))\n",
    "    print('Learnt weights:\\n', sess.run(W, feed_dict={X: x_data, y: y_data}))\n",
    "    print('Learnt factors:\\n', sess.run(V, feed_dict={X: x_data, y: y_data}))"
   ]
  }
 ],
 "metadata": {
  "kernelspec": {
   "display_name": "Python 3",
   "language": "python",
   "name": "python3"
  },
  "language_info": {
   "codemirror_mode": {
    "name": "ipython",
    "version": 3
   },
   "file_extension": ".py",
   "mimetype": "text/x-python",
   "name": "python",
   "nbconvert_exporter": "python",
   "pygments_lexer": "ipython3",
   "version": "3.6.5"
  }
 },
 "nbformat": 4,
 "nbformat_minor": 2
}
