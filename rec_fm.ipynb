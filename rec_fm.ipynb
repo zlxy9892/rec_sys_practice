{
 "cells": [
  {
   "cell_type": "code",
   "execution_count": 1,
   "metadata": {},
   "outputs": [
    {
     "name": "stderr",
     "output_type": "stream",
     "text": [
      "/Users/zhanglei115/dev/anaconda3/lib/python3.6/site-packages/h5py/__init__.py:36: FutureWarning: Conversion of the second argument of issubdtype from `float` to `np.floating` is deprecated. In future, it will be treated as `np.float64 == np.dtype(float).type`.\n",
      "  from ._conv import register_converters as _register_converters\n"
     ]
    }
   ],
   "source": [
    "import numpy as np\n",
    "import tensorflow as tf"
   ]
  },
  {
   "cell_type": "code",
   "execution_count": 2,
   "metadata": {},
   "outputs": [],
   "source": [
    "# Example dummy data from Rendle 2010 \n",
    "# http://www.csie.ntu.edu.tw/~b97053/paper/Rendle2010FM.pdf\n",
    "# Stolen from https://github.com/coreylynch/pyFM\n",
    "# Categorical variables (Users, Movies, Last Rated) have been one-hot-encoded \n",
    "\n",
    "x_data = np.matrix([\n",
    "#    Users  |     Movies     |    Movie Ratings   | Time | Last Movies Rated\n",
    "#   A  B  C | TI  NH  SW  ST | TI   NH   SW   ST  |      | TI  NH  SW  ST\n",
    "    [1, 0, 0,  1,  0,  0,  0,   0.3, 0.3, 0.3, 0,     13,   0,  0,  0,  0 ],\n",
    "    [1, 0, 0,  0,  1,  0,  0,   0.3, 0.3, 0.3, 0,     14,   1,  0,  0,  0 ],\n",
    "    [1, 0, 0,  0,  0,  1,  0,   0.3, 0.3, 0.3, 0,     16,   0,  1,  0,  0 ],\n",
    "    [0, 1, 0,  0,  0,  1,  0,   0,   0,   0.5, 0.5,   5,    0,  0,  0,  0 ],\n",
    "    [0, 1, 0,  0,  0,  0,  1,   0,   0,   0.5, 0.5,   8,    0,  0,  1,  0 ],\n",
    "    [0, 0, 1,  1,  0,  0,  0,   0.5, 0,   0.5, 0,     9,    0,  0,  0,  0 ],\n",
    "    [0, 0, 1,  0,  0,  1,  0,   0.5, 0,   0.5, 0,     12,   1,  0,  0,  0 ]\n",
    "])\n",
    "# ratings\n",
    "y_data = np.array([5, 3, 1, 4, 5, 1, 5])\n",
    "\n",
    "# Let's add an axis to make tensoflow happy.\n",
    "y_data.shape += (1, )"
   ]
  },
  {
   "cell_type": "code",
   "execution_count": 3,
   "metadata": {},
   "outputs": [
    {
     "name": "stdout",
     "output_type": "stream",
     "text": [
      "(7, 16)\n",
      "(7, 1)\n"
     ]
    }
   ],
   "source": [
    "print(x_data.shape)\n",
    "print(y_data.shape)"
   ]
  },
  {
   "cell_type": "code",
   "execution_count": 4,
   "metadata": {},
   "outputs": [
    {
     "name": "stdout",
     "output_type": "stream",
     "text": [
      "X_shape: (7, 16)\n",
      "V_shape: (5, 16)\n"
     ]
    }
   ],
   "source": [
    "n, p = x_data.shape\n",
    "\n",
    "# number of latent factors\n",
    "k = 5\n",
    "\n",
    "X = tf.placeholder('float', shape=[n, p])  # design matrix\n",
    "y = tf.placeholder('float', shape=[n, 1])  # target vector\n",
    "\n",
    "# bias and weights\n",
    "w0 = tf.Variable(tf.zeros([1]))\n",
    "W = tf.Variable(tf.zeros([p]))\n",
    "\n",
    "# interaction factors, randomly initialized \n",
    "V = tf.Variable(tf.random_normal([k, p], stddev=0.01))\n",
    "\n",
    "# estimate of y, initialized to 0.\n",
    "y_pred = tf.Variable(tf.zeros([n, 1]))\n",
    "\n",
    "print('X_shape: {}'.format(X.shape))\n",
    "print('V_shape: {}'.format(V.shape))"
   ]
  },
  {
   "cell_type": "code",
   "execution_count": 5,
   "metadata": {},
   "outputs": [],
   "source": [
    "linear_terms = tf.add(w0, tf.reduce_sum(tf.multiply(W, X), 1, keepdims=True))"
   ]
  },
  {
   "cell_type": "code",
   "execution_count": 6,
   "metadata": {},
   "outputs": [
    {
     "name": "stdout",
     "output_type": "stream",
     "text": [
      "WARNING:tensorflow:From <ipython-input-6-a85320399ace>:3: calling reduce_sum (from tensorflow.python.ops.math_ops) with keep_dims is deprecated and will be removed in a future version.\n",
      "Instructions for updating:\n",
      "keep_dims is deprecated, use keepdims instead\n"
     ]
    }
   ],
   "source": [
    "interactions = (tf.multiply(0.5,\n",
    "                    tf.reduce_sum(tf.subtract(tf.pow(tf.matmul(X, tf.transpose(V)), 2),\n",
    "                        tf.matmul(tf.pow(X, 2), tf.transpose(tf.pow(V, 2)))), 1, keep_dims=True)))"
   ]
  },
  {
   "cell_type": "code",
   "execution_count": 7,
   "metadata": {},
   "outputs": [],
   "source": [
    "y_pred = tf.add(linear_terms, interactions)"
   ]
  },
  {
   "cell_type": "code",
   "execution_count": 8,
   "metadata": {},
   "outputs": [],
   "source": [
    "# L2 regularized sum of squares loss function over W and V\n",
    "lambda_w = tf.constant(0.001, name='lambda_w')\n",
    "lambda_v = tf.constant(0.001, name='lambda_v')\n",
    "\n",
    "l2_norm = (tf.reduce_sum(\n",
    "            tf.add(\n",
    "                tf.multiply(lambda_w, tf.pow(W, 2)),\n",
    "                tf.multiply(lambda_v, tf.pow(V, 2)))))\n",
    "\n",
    "error = tf.reduce_mean(tf.square(tf.subtract(y, y_pred)))\n",
    "loss = tf.add(error, l2_norm)"
   ]
  },
  {
   "cell_type": "code",
   "execution_count": 9,
   "metadata": {},
   "outputs": [],
   "source": [
    "eta = tf.constant(0.1)\n",
    "optimizer = tf.train.AdagradOptimizer(eta).minimize(loss)"
   ]
  },
  {
   "cell_type": "code",
   "execution_count": 10,
   "metadata": {},
   "outputs": [
    {
     "name": "stdout",
     "output_type": "stream",
     "text": [
      "MSE:  2.8889091e-05\n",
      "Loss (regularized error): 0.0032499814\n",
      "Predictions: [[4.99564  ]\n",
      " [4.993176 ]\n",
      " [4.99407  ]\n",
      " [0.9936371]\n",
      " [3.996399 ]\n",
      " [2.9935665]\n",
      " [0.9974238]]\n",
      "Learnt weights: [ 0.1243737   0.19964918 -0.03787979  0.01391326 -0.03862222  0.22370568\n",
      "  0.10294139  0.03036066  0.06911231  0.1133675   0.15240586  0.13388005\n",
      "  0.1917422  -0.17157163  0.10294139  0.        ]\n",
      "Learnt factors: [[ 0.13164376  0.24746239 -0.11788798  0.15289064 -0.24639721  0.23914546\n",
      "   0.07790542 -0.00194411  0.05762508  0.06863816  0.22859074  0.27847663\n",
      "   0.270541   -0.41267282  0.08678205  0.00170862]\n",
      " [-0.01340673 -0.00963179  0.00146053  0.00218098 -0.0187941   0.00295163\n",
      "  -0.01480574 -0.01203586  0.00269673 -0.00384837 -0.00371918  0.00518827\n",
      "   0.02520728 -0.0007851  -0.01370601 -0.01108399]\n",
      " [ 0.09146155  0.22232804 -0.17726585  0.12757531 -0.27285418  0.21869859\n",
      "   0.07112934 -0.02408755  0.0531369   0.04090684  0.21313836  0.30551946\n",
      "   0.23766786 -0.43542203  0.07199112 -0.00582941]\n",
      " [-0.09724006 -0.12507294  0.24619856 -0.11552745  0.3422985  -0.22684035\n",
      "  -0.01085723  0.06615951 -0.06850616  0.00488007 -0.11940558 -0.25352252\n",
      "  -0.1863025   0.4679539  -0.01259798 -0.00606187]\n",
      " [ 0.00713717  0.12388214 -0.07936541  0.04852921 -0.09376937  0.0431189\n",
      "   0.08756596 -0.03408681  0.01127889  0.0177134   0.09603351  0.04105875\n",
      "   0.02828359 -0.11451837  0.07973213  0.00277795]]\n"
     ]
    }
   ],
   "source": [
    "# that's a lot of iterations\n",
    "N_EPOCHS = 1000\n",
    "# Launch the graph.\n",
    "init = tf.global_variables_initializer()\n",
    "with tf.Session() as sess:\n",
    "    sess.run(init)\n",
    "\n",
    "    for epoch in range(N_EPOCHS):\n",
    "        indices = np.arange(n)\n",
    "        np.random.shuffle(indices)\n",
    "        x_data, y_data = x_data[indices], y_data[indices]\n",
    "        sess.run(optimizer, feed_dict={X: x_data, y: y_data})\n",
    "\n",
    "    print('MSE: ', sess.run(error, feed_dict={X: x_data, y: y_data}))\n",
    "    print('Loss (regularized error):', sess.run(loss, feed_dict={X: x_data, y: y_data}))\n",
    "    print('Predictions:', sess.run(y_pred, feed_dict={X: x_data, y: y_data}))\n",
    "    print('Learnt weights:', sess.run(W, feed_dict={X: x_data, y: y_data}))\n",
    "    print('Learnt factors:', sess.run(V, feed_dict={X: x_data, y: y_data}))"
   ]
  }
 ],
 "metadata": {
  "kernelspec": {
   "display_name": "Python 3",
   "language": "python",
   "name": "python3"
  },
  "language_info": {
   "codemirror_mode": {
    "name": "ipython",
    "version": 3
   },
   "file_extension": ".py",
   "mimetype": "text/x-python",
   "name": "python",
   "nbconvert_exporter": "python",
   "pygments_lexer": "ipython3",
   "version": "3.6.5"
  }
 },
 "nbformat": 4,
 "nbformat_minor": 2
}
